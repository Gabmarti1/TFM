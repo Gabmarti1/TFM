{
  "nbformat": 4,
  "nbformat_minor": 0,
  "metadata": {
    "colab": {
      "name": "EDA analysis TFM.ipynb",
      "provenance": [],
      "collapsed_sections": []
    },
    "kernelspec": {
      "name": "python3",
      "display_name": "Python 3"
    },
    "language_info": {
      "name": "python"
    }
  },
  "cells": [
    {
      "cell_type": "code",
      "source": [
        "import pandas as pd\n"
      ],
      "metadata": {
        "id": "JnakXw9v4sjJ"
      },
      "execution_count": null,
      "outputs": []
    },
    {
      "cell_type": "code",
      "source": [
        "from google.colab import drive\n",
        "drive.mount('/content/drive')"
      ],
      "metadata": {
        "colab": {
          "base_uri": "https://localhost:8080/"
        },
        "id": "o9xHLiQrJUr-",
        "outputId": "7e8de2e2-6a90-4564-a63e-f21a0934a5e2"
      },
      "execution_count": null,
      "outputs": [
        {
          "output_type": "stream",
          "name": "stdout",
          "text": [
            "Drive already mounted at /content/drive; to attempt to forcibly remount, call drive.mount(\"/content/drive\", force_remount=True).\n"
          ]
        }
      ]
    },
    {
      "cell_type": "code",
      "execution_count": null,
      "metadata": {
        "id": "JQ6bNyGAH-IO"
      },
      "outputs": [],
      "source": [
        "df_clinico=\"drive/MyDrive/Colab Notebooks/TFM/BD_Buena_withoutcomma.csv\""
      ]
    },
    {
      "cell_type": "code",
      "source": [
        "df_bacteria=\"drive/MyDrive/Colab Notebooks/TFM/orange_bacteria.csv\""
      ],
      "metadata": {
        "id": "yOkjk1UpFIGi"
      },
      "execution_count": null,
      "outputs": []
    },
    {
      "cell_type": "code",
      "source": [
        "df_c = pd.read_csv(\"drive/MyDrive/Colab Notebooks/TFM/BD_buena.csv\")"
      ],
      "metadata": {
        "id": "KY8fNLVb4n3Z"
      },
      "execution_count": null,
      "outputs": []
    },
    {
      "cell_type": "code",
      "source": [
        "df_b=pd.read_csv(\"drive/MyDrive/Colab Notebooks/TFM/orange_bacteria.csv\",sep=';')"
      ],
      "metadata": {
        "id": "q0f_aW7a4nfq"
      },
      "execution_count": null,
      "outputs": []
    },
    {
      "cell_type": "code",
      "source": [
        "#dataset = df_bacteria.dropna(axis = 0, subset=['Paciente'])"
      ],
      "metadata": {
        "id": "bThaAryDLUXQ"
      },
      "execution_count": null,
      "outputs": []
    },
    {
      "cell_type": "code",
      "source": [
        "#import sweetviz as sv\n",
        "#analyze_report = sv.analyze(dataset)\n",
        "#analyze_report.show_html('analyze.html', open_browser=False)\n"
      ],
      "metadata": {
        "id": "KBw9mL1gIu1Q"
      },
      "execution_count": null,
      "outputs": []
    },
    {
      "cell_type": "code",
      "source": [
        "#import IPython\n",
        "\n",
        "#IPython.display.HTML('analyze.html')\n"
      ],
      "metadata": {
        "id": "khOA1h26KYB7"
      },
      "execution_count": null,
      "outputs": []
    },
    {
      "cell_type": "code",
      "source": [
        "#number = dataset.select_dtypes(include=['number'])\n",
        "#dataset"
      ],
      "metadata": {
        "id": "xevNztawkWnq"
      },
      "execution_count": null,
      "outputs": []
    },
    {
      "cell_type": "code",
      "source": [
        "#number = dataset.select_dtypes(include=['number'])\n",
        "#g = sns.PairGrid(number)\n",
        "#g.map(plt.scatter)"
      ],
      "metadata": {
        "id": "Bu5JLm0Bfi9G"
      },
      "execution_count": null,
      "outputs": []
    },
    {
      "cell_type": "code",
      "source": [
        "#dataset['Edad']= dataset['Edad'].astype(float)"
      ],
      "metadata": {
        "id": "A-2w9p-3pRm-"
      },
      "execution_count": null,
      "outputs": []
    },
    {
      "cell_type": "code",
      "source": [
        "#sns.pairplot(dataset)"
      ],
      "metadata": {
        "id": "2hyKxrQLmRqm"
      },
      "execution_count": null,
      "outputs": []
    },
    {
      "cell_type": "code",
      "source": [
        "#dataset.columns"
      ],
      "metadata": {
        "id": "lB-M8xt1hyZ8"
      },
      "execution_count": null,
      "outputs": []
    },
    {
      "cell_type": "code",
      "source": [
        "excluidos = [105,21,19,90]"
      ],
      "metadata": {
        "id": "zn_3HEPYxHD0"
      },
      "execution_count": null,
      "outputs": []
    },
    {
      "cell_type": "markdown",
      "source": [
        "Vamos a juntar las dos tablas y comparar si tienen los mismos pacientes"
      ],
      "metadata": {
        "id": "S9zAnSPdFi9l"
      }
    },
    {
      "cell_type": "code",
      "source": [
        "lista = ['Faeces-T1','Faeces-T0','Fistula']\n",
        "index = []\n",
        "n = 1\n",
        "T=0\n",
        "T1=0\n",
        "excluidos=['90','19','21','105']\n",
        "dicc_T1={}\n",
        "dicc_To={}\n",
        "for line in open(df_bacteria):\n",
        "  if n == 1:\n",
        "    n = 0\n",
        "    continue\n",
        "  else:\n",
        "      line = line.strip(\"\\n\").split(\";\")\n",
        "      identificador = line[0]\n",
        "      heces = line[1]\n",
        "      if heces == 'Fistula':\n",
        "          heces = 'Faeces-T0'\n",
        "      if heces not in lista:\n",
        "        \n",
        "        continue\n",
        "      else:\n",
        "        if len(identificador) > 2:\n",
        "          numero=identificador.split('.')[0]\n",
        "          if numero in index or numero in excluidos:\n",
        "            continue\n",
        "          else:\n",
        "            index.append(numero) \n",
        "          \n",
        "          \n",
        "        elif len(identificador)<= 2:\n",
        "          if identificador in index or identificador in excluidos:\n",
        "            continue\n",
        "          else:\n",
        "            index.append(identificador)\n",
        "          \n",
        "\n",
        "\n",
        "\n",
        "    \n"
      ],
      "metadata": {
        "id": "liNDQ5JRFidX"
      },
      "execution_count": null,
      "outputs": []
    },
    {
      "cell_type": "code",
      "source": [
        "dicc_T1={}\n",
        "dicc_To={}\n",
        "for line in open(df_bacteria):\n",
        "  if n == 1:\n",
        "    n = 0\n",
        "    continue\n",
        "  else:\n",
        "    line = line.strip(\"\\n\").split(\";\")\n",
        "    identificador = line[0]\n",
        "    heces = line[1]\n",
        "    if heces == 'Fistula':\n",
        "      heces = 'Faeces-T0'\n",
        "    if heces not in lista:\n",
        "      continue\n",
        "    \n",
        "    else:\n",
        "      if len(identificador) > 2:\n",
        "          numero=identificador.split('.')[0]\n",
        "          if numero in excluidos:\n",
        "            continue\n",
        "          if heces == 'Faeces-T0':\n",
        "            dicc_To[numero] = line[3:]\n",
        "          if heces == 'Faeces-T1':\n",
        "            dicc_T1[numero] = line[3:]\n",
        "\n",
        "      elif len(identificador)<= 2:\n",
        "        if identificador in excluidos:\n",
        "            continue\n",
        "        if heces == 'Faeces-T0':\n",
        "          dicc_To[identificador] = line[3:]\n",
        "        if heces == 'Faeces-T1':\n",
        "          dicc_T1[identificador] = line[3:]"
      ],
      "metadata": {
        "id": "UnsR2ucKZjba"
      },
      "execution_count": null,
      "outputs": []
    },
    {
      "cell_type": "code",
      "source": [
        "T=0\n",
        "T1=0\n",
        "n1 = 0\n",
        "for line in open(df_bacteria):\n",
        "  if n1 == 1:\n",
        "    n1 = 0\n",
        "    continue\n",
        "  else:\n",
        "    line = line.strip(\"\\n\").split(\";\")\n",
        "    heces = line[1]  \n",
        "    if heces == 'Fistula':\n",
        "      heces = 'Faeces-T0'    \n",
        "    if heces == 'Faeces-T0':\n",
        "      T += 1\n",
        "    if heces == 'Faeces-T1':\n",
        "      T1 += 1\n",
        "print(T)\n",
        "print(T1)"
      ],
      "metadata": {
        "colab": {
          "base_uri": "https://localhost:8080/"
        },
        "id": "L2Qdi2f9NDGB",
        "outputId": "dc393ddc-a216-46bc-ec72-c817db71aba0"
      },
      "execution_count": null,
      "outputs": [
        {
          "output_type": "stream",
          "name": "stdout",
          "text": [
            "101\n",
            "31\n"
          ]
        }
      ]
    },
    {
      "cell_type": "code",
      "source": [
        "import re\n",
        "index2=[]\n",
        "n1 = 1\n",
        "for lines in open(df_clinico):\n",
        "  if n1 == 1:\n",
        "    n1 = 0\n",
        "    continue\n",
        "  lines= lines.strip('\\n').split(';')\n",
        "  ident = lines[0]\n",
        "  if ident == '':\n",
        "    continue\n",
        "  else :\n",
        "    ident = re.split('[A-Z]+',ident)\n",
        "    ident = ident[1]\n",
        "    print(ident)\n",
        "    index2.append(ident)"
      ],
      "metadata": {
        "id": "tbER4z9VZZB8"
      },
      "execution_count": null,
      "outputs": []
    },
    {
      "cell_type": "code",
      "source": [
        "len(index2)"
      ],
      "metadata": {
        "colab": {
          "base_uri": "https://localhost:8080/"
        },
        "id": "L7YVKwDGhs66",
        "outputId": "96bd0c82-2f7f-48cf-9508-97549879f7b3"
      },
      "execution_count": null,
      "outputs": [
        {
          "output_type": "execute_result",
          "data": {
            "text/plain": [
              "111"
            ]
          },
          "metadata": {},
          "execution_count": 20
        }
      ]
    },
    {
      "cell_type": "code",
      "source": [
        "print(index)"
      ],
      "metadata": {
        "colab": {
          "base_uri": "https://localhost:8080/"
        },
        "id": "wpisg3cmSfqq",
        "outputId": "8299f29c-b5ea-436a-ebf2-8e0ac3074002"
      },
      "execution_count": null,
      "outputs": [
        {
          "output_type": "stream",
          "name": "stdout",
          "text": [
            "['2', '3', '5', '6', '7', '9', '11', '12', '13', '15', '16', '17', '18', '20', '10', '22', '23', '24', '25', '26', '28', '29', '32', '33', '35', '36', '37', '38', '40', '41', '42', '43', '44', '45', '46', '48', '49', '50', '51', '52', '53', '54', '55', '56', '57', '60', '62', '63', '64', '65', '66', '67', '68', '69', '70', '71', '72', '73', '74', '75', '76', '77', '80', '81', '84', '85', '87', '88', '89', '86', '91', '92', '93', '95', '96', '97', '98', '99', '100', '101', '102', '103', '78', '104', '107', '108', '109', '110', '111', '113', '114', '115', '116', '79', '117', '118', '119', '30', '34', '59', '14']\n"
          ]
        }
      ]
    },
    {
      "cell_type": "code",
      "source": [
        "common =[]\n",
        "just_in_bacteria=[]\n",
        "for ind in index:\n",
        "  if ind in index2:\n",
        "      common.append(ind)\n",
        "  else:\n",
        "    just_in_bacteria.append(ind)\n",
        "len(common)\n",
        "print(just_in_bacteria)\n",
        "len(just_in_bacteria)"
      ],
      "metadata": {
        "colab": {
          "base_uri": "https://localhost:8080/"
        },
        "id": "N-WjhXVOgEv3",
        "outputId": "d6a0ffdb-32d9-43f3-fd6f-d46af653b260"
      },
      "execution_count": null,
      "outputs": [
        {
          "output_type": "stream",
          "name": "stdout",
          "text": [
            "['119']\n"
          ]
        },
        {
          "output_type": "execute_result",
          "data": {
            "text/plain": [
              "1"
            ]
          },
          "metadata": {},
          "execution_count": 22
        }
      ]
    },
    {
      "cell_type": "code",
      "source": [
        "just_in_clinical = []\n",
        "for ind1 in index2 :\n",
        "  if ind1 not in index:\n",
        "    just_in_clinical.append(ind1)\n",
        "print(just_in_clinical)\n"
      ],
      "metadata": {
        "id": "4aJa1Oowmjd1",
        "colab": {
          "base_uri": "https://localhost:8080/"
        },
        "outputId": "a221c292-5ce8-45f9-ed68-dc87e4eff0ae"
      },
      "execution_count": null,
      "outputs": [
        {
          "output_type": "stream",
          "name": "stdout",
          "text": [
            "['8', '19', '21', '31', '39', '58', '61', '90', '105', '106', '112']\n"
          ]
        }
      ]
    },
    {
      "cell_type": "code",
      "source": [
        "print(len(common))\n",
        "print(len(just_in_bacteria))\n",
        "print(len(just_in_clinical))"
      ],
      "metadata": {
        "colab": {
          "base_uri": "https://localhost:8080/"
        },
        "id": "sY63KSyNrQMR",
        "outputId": "f38da17b-60f7-439f-aead-db70b529cbea"
      },
      "execution_count": null,
      "outputs": [
        {
          "output_type": "stream",
          "name": "stdout",
          "text": [
            "100\n",
            "1\n",
            "11\n"
          ]
        }
      ]
    },
    {
      "cell_type": "code",
      "source": [
        "print(len(dicc_T1.keys()))\n",
        "print(len(dicc_To.keys()))"
      ],
      "metadata": {
        "colab": {
          "base_uri": "https://localhost:8080/"
        },
        "id": "Govc0nPKUicN",
        "outputId": "a2bbaf18-93d9-48a9-97fc-32221d48fe4c"
      },
      "execution_count": null,
      "outputs": [
        {
          "output_type": "stream",
          "name": "stdout",
          "text": [
            "31\n",
            "96\n"
          ]
        }
      ]
    },
    {
      "cell_type": "code",
      "source": [
        "c= 0\n",
        "for key in dicc_To.keys():\n",
        "  for bac in just_in_bacteria:\n",
        "    if key == bac:\n",
        "      c += 1\n",
        "print(c)"
      ],
      "metadata": {
        "colab": {
          "base_uri": "https://localhost:8080/"
        },
        "id": "WNyb3GFB_DMV",
        "outputId": "8a04fdb3-9244-4004-a6cf-b5652f5a566d"
      },
      "execution_count": null,
      "outputs": [
        {
          "output_type": "stream",
          "name": "stdout",
          "text": [
            "1\n"
          ]
        }
      ]
    },
    {
      "cell_type": "code",
      "source": [
        "out = open('df_combined','w')\n",
        "cont = 1\n",
        "n = 0\n",
        "for patient in open(df_clinico):\n",
        "  n += 1\n",
        "  if n == 113:\n",
        "    continue\n",
        "  if cont == 1:\n",
        "    out.write('ident' + '\\t' + 'Diabetes' + '\\t' + 'Obesidad' + '\\t' +'Fistula' + '\\t' + 'Resp intratum' + '\\t'+ 'Resp peritum'+'\\t'+ 'linfaticos' + '\\t'+ 'recaída' + '\\t' + 'exitus' +'\\n')\n",
        "    cont = 0\n",
        "    continue\n",
        "  \n",
        "  else:\n",
        "      patient = patient.strip('\\n').split(';')\n",
        "      identificador = patient[0]\n",
        "      ident = re.split('[A-Z]+',identificador)\n",
        "      print(ident)\n",
        "      numero = ident[1]\n",
        "      if numero in excluidos :\n",
        "        continue\n",
        "      else:\n",
        "        \n",
        "        for key in dicc_To.keys():\n",
        "          if key == numero:\n",
        "            out.write(key + '\\t'  + patient[15]+ '\\t' + patient[16] + '\\t' + patient[39] +'\\t' + patient[57]+ '\\t' +patient[58]+'\\t' + patient[59] + '\\t' + patient[76] + '\\t'+patient[80] +'\\n')\n",
        "\n",
        "      \n",
        "\n",
        "out.close()"
      ],
      "metadata": {
        "id": "312hIYhzfCMA",
        "colab": {
          "base_uri": "https://localhost:8080/"
        },
        "outputId": "c208768b-f063-41e3-9845-e838351770ac"
      },
      "execution_count": null,
      "outputs": [
        {
          "output_type": "stream",
          "name": "stdout",
          "text": [
            "['', '2']\n",
            "['', '3']\n",
            "['', '5']\n",
            "['', '6']\n",
            "['', '7']\n",
            "['', '8']\n",
            "['', '9']\n",
            "['', '10']\n",
            "['', '11']\n",
            "['', '12']\n",
            "['', '13']\n",
            "['', '14']\n",
            "['', '15']\n",
            "['', '16']\n",
            "['', '17']\n",
            "['', '18']\n",
            "['', '19']\n",
            "['', '20']\n",
            "['', '21']\n",
            "['', '22']\n",
            "['', '23']\n",
            "['', '24']\n",
            "['', '25']\n",
            "['', '26']\n",
            "['', '28']\n",
            "['', '29']\n",
            "['', '30']\n",
            "['', '31']\n",
            "['', '32']\n",
            "['', '33']\n",
            "['', '34']\n",
            "['', '35']\n",
            "['', '36']\n",
            "['', '37']\n",
            "['', '38']\n",
            "['', '39']\n",
            "['', '40']\n",
            "['', '41']\n",
            "['', '42']\n",
            "['', '43']\n",
            "['', '44']\n",
            "['', '45']\n",
            "['', '46']\n",
            "['', '48']\n",
            "['', '49']\n",
            "['', '50']\n",
            "['', '51']\n",
            "['', '52']\n",
            "['', '53']\n",
            "['', '54']\n",
            "['', '55']\n",
            "['', '56']\n",
            "['', '57']\n",
            "['', '58']\n",
            "['', '59']\n",
            "['', '60']\n",
            "['', '61']\n",
            "['', '62']\n",
            "['', '63']\n",
            "['', '64']\n",
            "['', '65']\n",
            "['', '66']\n",
            "['', '67']\n",
            "['', '68']\n",
            "['', '69']\n",
            "['', '70']\n",
            "['', '71']\n",
            "['', '72']\n",
            "['', '73']\n",
            "['', '74']\n",
            "['', '75']\n",
            "['', '76']\n",
            "['', '77']\n",
            "['', '78']\n",
            "['', '79']\n",
            "['', '80']\n",
            "['', '81']\n",
            "['', '84']\n",
            "['', '85']\n",
            "['', '86']\n",
            "['', '87']\n",
            "['', '88']\n",
            "['', '89']\n",
            "['', '90']\n",
            "['', '91']\n",
            "['', '92']\n",
            "['', '93']\n",
            "['', '95']\n",
            "['', '96']\n",
            "['', '97']\n",
            "['', '98']\n",
            "['', '99']\n",
            "['', '100']\n",
            "['', '101']\n",
            "['', '102']\n",
            "['', '103']\n",
            "['', '104']\n",
            "['', '105']\n",
            "['', '106']\n",
            "['', '107']\n",
            "['', '108']\n",
            "['', '109']\n",
            "['', '110']\n",
            "['', '111']\n",
            "['', '112']\n",
            "['', '113']\n",
            "['', '114']\n",
            "['', '115']\n",
            "['', '116']\n",
            "['', '117']\n",
            "['', '118']\n"
          ]
        }
      ]
    },
    {
      "cell_type": "code",
      "source": [
        "lista_num = []\n",
        "for num in dicc_To.keys():\n",
        "  lista_num.append(num)\n",
        "\n",
        "print(lista_num)"
      ],
      "metadata": {
        "colab": {
          "base_uri": "https://localhost:8080/"
        },
        "id": "MlXuuYBgb4Hf",
        "outputId": "1f6885d8-cb87-4191-e410-b031885aaaf4"
      },
      "execution_count": null,
      "outputs": [
        {
          "output_type": "stream",
          "name": "stdout",
          "text": [
            "['2', '3', '5', '6', '7', '9', '11', '12', '13', '15', '16', '17', '18', '20', '10', '22', '23', '24', '25', '26', '28', '29', '32', '33', '35', '36', '37', '38', '40', '41', '42', '43', '44', '45', '46', '48', '49', '50', '51', '52', '53', '54', '55', '56', '57', '60', '62', '63', '64', '65', '66', '67', '68', '69', '70', '71', '72', '73', '74', '75', '76', '77', '80', '81', '84', '85', '87', '88', '89', '86', '91', '92', '93', '95', '96', '97', '98', '99', '100', '101', '102', '103', '78', '104', '107', '108', '109', '110', '111', '113', '114', '115', '116', '79', '118', '119']\n"
          ]
        }
      ]
    }
  ]
}