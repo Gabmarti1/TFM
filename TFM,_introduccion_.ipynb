{
  "nbformat": 4,
  "nbformat_minor": 0,
  "metadata": {
    "colab": {
      "name": "TFM, introduccion .ipynb",
      "provenance": [],
      "collapsed_sections": []
    },
    "kernelspec": {
      "name": "python3",
      "display_name": "Python 3"
    },
    "language_info": {
      "name": "python"
    }
  },
  "cells": [
    {
      "cell_type": "code",
      "source": [
        "!apt-get install openjdk-8-jdk-headless -qq > /dev/null\n",
        "!wget -q https://mirrors.sonic.net/apache/spark/spark-3.1.2/spark-3.1.2-bin-hadoop3.2.tgz\n",
        "!tar xzf spark-3.1.2-bin-hadoop3.2.tgz\n",
        "!pip install -q findspark\n",
        "\n",
        "\n",
        "import os\n",
        "os.environ[\"JAVA_HOME\"] = \"/usr/lib/jvm/java-8-openjdk-amd64\"\n",
        "os.environ[\"SPARK_HOME\"] = \"/content/spark-3.1.2-bin-hadoop3.2\"\n",
        "\n",
        "\n",
        "import findspark\n",
        "findspark.init()\n",
        "from pyspark.sql import SparkSession\n",
        "spark = SparkSession.builder.master(\"local[*]\").getOrCreate()"
      ],
      "metadata": {
        "id": "XbfyK0hcRpGm"
      },
      "execution_count": null,
      "outputs": []
    },
    {
      "cell_type": "code",
      "source": [
        "spark"
      ],
      "metadata": {
        "colab": {
          "base_uri": "https://localhost:8080/",
          "height": 219
        },
        "id": "Crdl7Gt2Rth5",
        "outputId": "a05a944e-88d1-4902-9984-46e413fccc3f"
      },
      "execution_count": null,
      "outputs": [
        {
          "output_type": "execute_result",
          "data": {
            "text/html": [
              "\n",
              "            <div>\n",
              "                <p><b>SparkSession - in-memory</b></p>\n",
              "                \n",
              "        <div>\n",
              "            <p><b>SparkContext</b></p>\n",
              "\n",
              "            <p><a href=\"http://786c1d3fcd07:4040\">Spark UI</a></p>\n",
              "\n",
              "            <dl>\n",
              "              <dt>Version</dt>\n",
              "                <dd><code>v3.1.2</code></dd>\n",
              "              <dt>Master</dt>\n",
              "                <dd><code>local[*]</code></dd>\n",
              "              <dt>AppName</dt>\n",
              "                <dd><code>pyspark-shell</code></dd>\n",
              "            </dl>\n",
              "        </div>\n",
              "        \n",
              "            </div>\n",
              "        "
            ],
            "text/plain": [
              "<pyspark.sql.session.SparkSession at 0x7fb132f35190>"
            ]
          },
          "metadata": {},
          "execution_count": 2
        }
      ]
    },
    {
      "cell_type": "code",
      "source": [
        "import numpy as np\n",
        "import matplotlib.pyplot as plt\n",
        "import numpy as np\n",
        "import pandas as pd\n",
        "import pandas_profiling\n",
        "from sklearn import preprocessing\n",
        "plt.style.use('ggplot')\n",
        "plt.rcParams['figure.figsize'] = (16, 9)"
      ],
      "metadata": {
        "id": "MEUsMWxMVQ14"
      },
      "execution_count": null,
      "outputs": []
    },
    {
      "cell_type": "code",
      "source": [
        "pd.set_option('display.max_columns',150)\n",
        "pd.set_option('display.max_rows',90)"
      ],
      "metadata": {
        "id": "DNZqU7lYZnSh"
      },
      "execution_count": null,
      "outputs": []
    },
    {
      "cell_type": "code",
      "execution_count": null,
      "metadata": {
        "id": "1X4ckVGHUFL_"
      },
      "outputs": [],
      "source": [
        "dataset=pd.read_csv(\"drive/MyDrive/Colab Notebooks/TFM/Recaidas_colon.csv\")"
      ]
    },
    {
      "cell_type": "code",
      "source": [
        "dataset.describe()"
      ],
      "metadata": {
        "id": "ZmvY7iATXPd7",
        "colab": {
          "base_uri": "https://localhost:8080/",
          "height": 538
        },
        "outputId": "ac55f799-d202-49a4-8cc8-40dd8f64dd93"
      },
      "execution_count": null,
      "outputs": [
        {
          "output_type": "execute_result",
          "data": {
            "text/html": [
              "\n",
              "  <div id=\"df-9ba37ce8-8391-4abd-bc99-4efffd069e23\">\n",
              "    <div class=\"colab-df-container\">\n",
              "      <div>\n",
              "<style scoped>\n",
              "    .dataframe tbody tr th:only-of-type {\n",
              "        vertical-align: middle;\n",
              "    }\n",
              "\n",
              "    .dataframe tbody tr th {\n",
              "        vertical-align: top;\n",
              "    }\n",
              "\n",
              "    .dataframe thead th {\n",
              "        text-align: right;\n",
              "    }\n",
              "</style>\n",
              "<table border=\"1\" class=\"dataframe\">\n",
              "  <thead>\n",
              "    <tr style=\"text-align: right;\">\n",
              "      <th></th>\n",
              "      <th>NHC</th>\n",
              "      <th>Telfono</th>\n",
              "      <th>AF CCR primer grado</th>\n",
              "      <th>MT CEA(marcador tumoral CEA)</th>\n",
              "      <th>Ca 19.9( marcador tumoral, se suele estudiar la cantidad de este maracdor en sangre</th>\n",
              "      <th>Tumor estenosante(lesion estenosante del colon identifcable en uan exploración física)</th>\n",
              "      <th>PT PeriOP</th>\n",
              "      <th>Hb Preqx</th>\n",
              "      <th>Leu PreQx</th>\n",
              "      <th>PCR preQx</th>\n",
              "      <th>PCR 3D</th>\n",
              "      <th>PCR 5D</th>\n",
              "      <th>Fecha alta</th>\n",
              "      <th>AJCC stage(sistema de estadificación)</th>\n",
              "      <th>pT stage</th>\n",
              "      <th>pN stage</th>\n",
              "      <th>Diferenciación</th>\n",
              "      <th>Diametro maximo</th>\n",
              "      <th>Espesor</th>\n",
              "      <th>Porcentaje circunferencia</th>\n",
              "      <th>GG aislados</th>\n",
              "      <th>GG +</th>\n",
              "      <th>Inestabilida microsatelites</th>\n",
              "      <th>QT adyuvante( como terapia adyuvante se ha utilizado la quimioterapia</th>\n",
              "      <th>Tipo QT (tipo de qiomioterapia)</th>\n",
              "      <th>Recaída</th>\n",
              "      <th>Exitus( si han muerto o no, pregunatr porque hay casos en lsoq ue pone 2)</th>\n",
              "    </tr>\n",
              "  </thead>\n",
              "  <tbody>\n",
              "    <tr>\n",
              "      <th>count</th>\n",
              "      <td>1.110000e+02</td>\n",
              "      <td>8.500000e+01</td>\n",
              "      <td>0.0</td>\n",
              "      <td>0.0</td>\n",
              "      <td>0.0</td>\n",
              "      <td>0.0</td>\n",
              "      <td>94.000000</td>\n",
              "      <td>0.0</td>\n",
              "      <td>0.0</td>\n",
              "      <td>0.0</td>\n",
              "      <td>83.000000</td>\n",
              "      <td>78.000000</td>\n",
              "      <td>0.0</td>\n",
              "      <td>0.0</td>\n",
              "      <td>0.0</td>\n",
              "      <td>0.0</td>\n",
              "      <td>0.0</td>\n",
              "      <td>105.000000</td>\n",
              "      <td>45.000000</td>\n",
              "      <td>102.000000</td>\n",
              "      <td>108.00000</td>\n",
              "      <td>108.000000</td>\n",
              "      <td>0.0</td>\n",
              "      <td>0.0</td>\n",
              "      <td>0.0</td>\n",
              "      <td>110.000000</td>\n",
              "      <td>111.000000</td>\n",
              "    </tr>\n",
              "    <tr>\n",
              "      <th>mean</th>\n",
              "      <td>4.382908e+05</td>\n",
              "      <td>8.174828e+08</td>\n",
              "      <td>NaN</td>\n",
              "      <td>NaN</td>\n",
              "      <td>NaN</td>\n",
              "      <td>NaN</td>\n",
              "      <td>6.703191</td>\n",
              "      <td>NaN</td>\n",
              "      <td>NaN</td>\n",
              "      <td>NaN</td>\n",
              "      <td>138.021687</td>\n",
              "      <td>101.138462</td>\n",
              "      <td>NaN</td>\n",
              "      <td>NaN</td>\n",
              "      <td>NaN</td>\n",
              "      <td>NaN</td>\n",
              "      <td>NaN</td>\n",
              "      <td>40.400000</td>\n",
              "      <td>11.422222</td>\n",
              "      <td>64.656863</td>\n",
              "      <td>17.12037</td>\n",
              "      <td>0.925926</td>\n",
              "      <td>NaN</td>\n",
              "      <td>NaN</td>\n",
              "      <td>NaN</td>\n",
              "      <td>0.127273</td>\n",
              "      <td>0.171171</td>\n",
              "    </tr>\n",
              "    <tr>\n",
              "      <th>std</th>\n",
              "      <td>5.537879e+05</td>\n",
              "      <td>1.495043e+08</td>\n",
              "      <td>NaN</td>\n",
              "      <td>NaN</td>\n",
              "      <td>NaN</td>\n",
              "      <td>NaN</td>\n",
              "      <td>0.646155</td>\n",
              "      <td>NaN</td>\n",
              "      <td>NaN</td>\n",
              "      <td>NaN</td>\n",
              "      <td>111.711610</td>\n",
              "      <td>84.833010</td>\n",
              "      <td>NaN</td>\n",
              "      <td>NaN</td>\n",
              "      <td>NaN</td>\n",
              "      <td>NaN</td>\n",
              "      <td>NaN</td>\n",
              "      <td>19.614849</td>\n",
              "      <td>5.626596</td>\n",
              "      <td>31.103944</td>\n",
              "      <td>7.33538</td>\n",
              "      <td>2.335039</td>\n",
              "      <td>NaN</td>\n",
              "      <td>NaN</td>\n",
              "      <td>NaN</td>\n",
              "      <td>0.334804</td>\n",
              "      <td>0.444642</td>\n",
              "    </tr>\n",
              "    <tr>\n",
              "      <th>min</th>\n",
              "      <td>7.594000e+03</td>\n",
              "      <td>9.131302e+07</td>\n",
              "      <td>NaN</td>\n",
              "      <td>NaN</td>\n",
              "      <td>NaN</td>\n",
              "      <td>NaN</td>\n",
              "      <td>4.500000</td>\n",
              "      <td>NaN</td>\n",
              "      <td>NaN</td>\n",
              "      <td>NaN</td>\n",
              "      <td>11.400000</td>\n",
              "      <td>10.000000</td>\n",
              "      <td>NaN</td>\n",
              "      <td>NaN</td>\n",
              "      <td>NaN</td>\n",
              "      <td>NaN</td>\n",
              "      <td>NaN</td>\n",
              "      <td>8.000000</td>\n",
              "      <td>4.000000</td>\n",
              "      <td>10.000000</td>\n",
              "      <td>2.00000</td>\n",
              "      <td>0.000000</td>\n",
              "      <td>NaN</td>\n",
              "      <td>NaN</td>\n",
              "      <td>NaN</td>\n",
              "      <td>0.000000</td>\n",
              "      <td>0.000000</td>\n",
              "    </tr>\n",
              "    <tr>\n",
              "      <th>25%</th>\n",
              "      <td>1.878050e+05</td>\n",
              "      <td>6.599059e+08</td>\n",
              "      <td>NaN</td>\n",
              "      <td>NaN</td>\n",
              "      <td>NaN</td>\n",
              "      <td>NaN</td>\n",
              "      <td>6.400000</td>\n",
              "      <td>NaN</td>\n",
              "      <td>NaN</td>\n",
              "      <td>NaN</td>\n",
              "      <td>50.300000</td>\n",
              "      <td>37.000000</td>\n",
              "      <td>NaN</td>\n",
              "      <td>NaN</td>\n",
              "      <td>NaN</td>\n",
              "      <td>NaN</td>\n",
              "      <td>NaN</td>\n",
              "      <td>30.000000</td>\n",
              "      <td>7.000000</td>\n",
              "      <td>36.250000</td>\n",
              "      <td>12.00000</td>\n",
              "      <td>0.000000</td>\n",
              "      <td>NaN</td>\n",
              "      <td>NaN</td>\n",
              "      <td>NaN</td>\n",
              "      <td>0.000000</td>\n",
              "      <td>0.000000</td>\n",
              "    </tr>\n",
              "    <tr>\n",
              "      <th>50%</th>\n",
              "      <td>3.056740e+05</td>\n",
              "      <td>9.131323e+08</td>\n",
              "      <td>NaN</td>\n",
              "      <td>NaN</td>\n",
              "      <td>NaN</td>\n",
              "      <td>NaN</td>\n",
              "      <td>6.800000</td>\n",
              "      <td>NaN</td>\n",
              "      <td>NaN</td>\n",
              "      <td>NaN</td>\n",
              "      <td>109.000000</td>\n",
              "      <td>80.000000</td>\n",
              "      <td>NaN</td>\n",
              "      <td>NaN</td>\n",
              "      <td>NaN</td>\n",
              "      <td>NaN</td>\n",
              "      <td>NaN</td>\n",
              "      <td>40.000000</td>\n",
              "      <td>10.000000</td>\n",
              "      <td>70.000000</td>\n",
              "      <td>17.00000</td>\n",
              "      <td>0.000000</td>\n",
              "      <td>NaN</td>\n",
              "      <td>NaN</td>\n",
              "      <td>NaN</td>\n",
              "      <td>0.000000</td>\n",
              "      <td>0.000000</td>\n",
              "    </tr>\n",
              "    <tr>\n",
              "      <th>75%</th>\n",
              "      <td>6.132430e+05</td>\n",
              "      <td>9.160164e+08</td>\n",
              "      <td>NaN</td>\n",
              "      <td>NaN</td>\n",
              "      <td>NaN</td>\n",
              "      <td>NaN</td>\n",
              "      <td>7.100000</td>\n",
              "      <td>NaN</td>\n",
              "      <td>NaN</td>\n",
              "      <td>NaN</td>\n",
              "      <td>192.500000</td>\n",
              "      <td>132.500000</td>\n",
              "      <td>NaN</td>\n",
              "      <td>NaN</td>\n",
              "      <td>NaN</td>\n",
              "      <td>NaN</td>\n",
              "      <td>NaN</td>\n",
              "      <td>50.000000</td>\n",
              "      <td>18.000000</td>\n",
              "      <td>100.000000</td>\n",
              "      <td>20.25000</td>\n",
              "      <td>1.000000</td>\n",
              "      <td>NaN</td>\n",
              "      <td>NaN</td>\n",
              "      <td>NaN</td>\n",
              "      <td>0.000000</td>\n",
              "      <td>0.000000</td>\n",
              "    </tr>\n",
              "    <tr>\n",
              "      <th>max</th>\n",
              "      <td>5.519850e+06</td>\n",
              "      <td>9.185945e+08</td>\n",
              "      <td>NaN</td>\n",
              "      <td>NaN</td>\n",
              "      <td>NaN</td>\n",
              "      <td>NaN</td>\n",
              "      <td>7.800000</td>\n",
              "      <td>NaN</td>\n",
              "      <td>NaN</td>\n",
              "      <td>NaN</td>\n",
              "      <td>504.000000</td>\n",
              "      <td>379.000000</td>\n",
              "      <td>NaN</td>\n",
              "      <td>NaN</td>\n",
              "      <td>NaN</td>\n",
              "      <td>NaN</td>\n",
              "      <td>NaN</td>\n",
              "      <td>105.000000</td>\n",
              "      <td>20.000000</td>\n",
              "      <td>100.000000</td>\n",
              "      <td>40.00000</td>\n",
              "      <td>12.000000</td>\n",
              "      <td>NaN</td>\n",
              "      <td>NaN</td>\n",
              "      <td>NaN</td>\n",
              "      <td>1.000000</td>\n",
              "      <td>2.000000</td>\n",
              "    </tr>\n",
              "  </tbody>\n",
              "</table>\n",
              "</div>\n",
              "      <button class=\"colab-df-convert\" onclick=\"convertToInteractive('df-9ba37ce8-8391-4abd-bc99-4efffd069e23')\"\n",
              "              title=\"Convert this dataframe to an interactive table.\"\n",
              "              style=\"display:none;\">\n",
              "        \n",
              "  <svg xmlns=\"http://www.w3.org/2000/svg\" height=\"24px\"viewBox=\"0 0 24 24\"\n",
              "       width=\"24px\">\n",
              "    <path d=\"M0 0h24v24H0V0z\" fill=\"none\"/>\n",
              "    <path d=\"M18.56 5.44l.94 2.06.94-2.06 2.06-.94-2.06-.94-.94-2.06-.94 2.06-2.06.94zm-11 1L8.5 8.5l.94-2.06 2.06-.94-2.06-.94L8.5 2.5l-.94 2.06-2.06.94zm10 10l.94 2.06.94-2.06 2.06-.94-2.06-.94-.94-2.06-.94 2.06-2.06.94z\"/><path d=\"M17.41 7.96l-1.37-1.37c-.4-.4-.92-.59-1.43-.59-.52 0-1.04.2-1.43.59L10.3 9.45l-7.72 7.72c-.78.78-.78 2.05 0 2.83L4 21.41c.39.39.9.59 1.41.59.51 0 1.02-.2 1.41-.59l7.78-7.78 2.81-2.81c.8-.78.8-2.07 0-2.86zM5.41 20L4 18.59l7.72-7.72 1.47 1.35L5.41 20z\"/>\n",
              "  </svg>\n",
              "      </button>\n",
              "      \n",
              "  <style>\n",
              "    .colab-df-container {\n",
              "      display:flex;\n",
              "      flex-wrap:wrap;\n",
              "      gap: 12px;\n",
              "    }\n",
              "\n",
              "    .colab-df-convert {\n",
              "      background-color: #E8F0FE;\n",
              "      border: none;\n",
              "      border-radius: 50%;\n",
              "      cursor: pointer;\n",
              "      display: none;\n",
              "      fill: #1967D2;\n",
              "      height: 32px;\n",
              "      padding: 0 0 0 0;\n",
              "      width: 32px;\n",
              "    }\n",
              "\n",
              "    .colab-df-convert:hover {\n",
              "      background-color: #E2EBFA;\n",
              "      box-shadow: 0px 1px 2px rgba(60, 64, 67, 0.3), 0px 1px 3px 1px rgba(60, 64, 67, 0.15);\n",
              "      fill: #174EA6;\n",
              "    }\n",
              "\n",
              "    [theme=dark] .colab-df-convert {\n",
              "      background-color: #3B4455;\n",
              "      fill: #D2E3FC;\n",
              "    }\n",
              "\n",
              "    [theme=dark] .colab-df-convert:hover {\n",
              "      background-color: #434B5C;\n",
              "      box-shadow: 0px 1px 3px 1px rgba(0, 0, 0, 0.15);\n",
              "      filter: drop-shadow(0px 1px 2px rgba(0, 0, 0, 0.3));\n",
              "      fill: #FFFFFF;\n",
              "    }\n",
              "  </style>\n",
              "\n",
              "      <script>\n",
              "        const buttonEl =\n",
              "          document.querySelector('#df-9ba37ce8-8391-4abd-bc99-4efffd069e23 button.colab-df-convert');\n",
              "        buttonEl.style.display =\n",
              "          google.colab.kernel.accessAllowed ? 'block' : 'none';\n",
              "\n",
              "        async function convertToInteractive(key) {\n",
              "          const element = document.querySelector('#df-9ba37ce8-8391-4abd-bc99-4efffd069e23');\n",
              "          const dataTable =\n",
              "            await google.colab.kernel.invokeFunction('convertToInteractive',\n",
              "                                                     [key], {});\n",
              "          if (!dataTable) return;\n",
              "\n",
              "          const docLinkHtml = 'Like what you see? Visit the ' +\n",
              "            '<a target=\"_blank\" href=https://colab.research.google.com/notebooks/data_table.ipynb>data table notebook</a>'\n",
              "            + ' to learn more about interactive tables.';\n",
              "          element.innerHTML = '';\n",
              "          dataTable['output_type'] = 'display_data';\n",
              "          await google.colab.output.renderOutput(dataTable, element);\n",
              "          const docLink = document.createElement('div');\n",
              "          docLink.innerHTML = docLinkHtml;\n",
              "          element.appendChild(docLink);\n",
              "        }\n",
              "      </script>\n",
              "    </div>\n",
              "  </div>\n",
              "  "
            ],
            "text/plain": [
              "                NHC       Telfono  AF CCR primer grado  \\\n",
              "count  1.110000e+02  8.500000e+01                  0.0   \n",
              "mean   4.382908e+05  8.174828e+08                  NaN   \n",
              "std    5.537879e+05  1.495043e+08                  NaN   \n",
              "min    7.594000e+03  9.131302e+07                  NaN   \n",
              "25%    1.878050e+05  6.599059e+08                  NaN   \n",
              "50%    3.056740e+05  9.131323e+08                  NaN   \n",
              "75%    6.132430e+05  9.160164e+08                  NaN   \n",
              "max    5.519850e+06  9.185945e+08                  NaN   \n",
              "\n",
              "       MT CEA(marcador tumoral CEA)  \\\n",
              "count                           0.0   \n",
              "mean                            NaN   \n",
              "std                             NaN   \n",
              "min                             NaN   \n",
              "25%                             NaN   \n",
              "50%                             NaN   \n",
              "75%                             NaN   \n",
              "max                             NaN   \n",
              "\n",
              "       Ca 19.9( marcador tumoral, se suele estudiar la cantidad de este maracdor en sangre  \\\n",
              "count                                                0.0                                     \n",
              "mean                                                 NaN                                     \n",
              "std                                                  NaN                                     \n",
              "min                                                  NaN                                     \n",
              "25%                                                  NaN                                     \n",
              "50%                                                  NaN                                     \n",
              "75%                                                  NaN                                     \n",
              "max                                                  NaN                                     \n",
              "\n",
              "       Tumor estenosante(lesion estenosante del colon identifcable en uan exploración física)  \\\n",
              "count                                                0.0                                        \n",
              "mean                                                 NaN                                        \n",
              "std                                                  NaN                                        \n",
              "min                                                  NaN                                        \n",
              "25%                                                  NaN                                        \n",
              "50%                                                  NaN                                        \n",
              "75%                                                  NaN                                        \n",
              "max                                                  NaN                                        \n",
              "\n",
              "       PT PeriOP  Hb Preqx  Leu PreQx  PCR preQx      PCR 3D      PCR 5D  \\\n",
              "count  94.000000       0.0        0.0        0.0   83.000000   78.000000   \n",
              "mean    6.703191       NaN        NaN        NaN  138.021687  101.138462   \n",
              "std     0.646155       NaN        NaN        NaN  111.711610   84.833010   \n",
              "min     4.500000       NaN        NaN        NaN   11.400000   10.000000   \n",
              "25%     6.400000       NaN        NaN        NaN   50.300000   37.000000   \n",
              "50%     6.800000       NaN        NaN        NaN  109.000000   80.000000   \n",
              "75%     7.100000       NaN        NaN        NaN  192.500000  132.500000   \n",
              "max     7.800000       NaN        NaN        NaN  504.000000  379.000000   \n",
              "\n",
              "       Fecha alta   AJCC stage(sistema de estadificación)  pT stage  pN stage  \\\n",
              "count          0.0                                    0.0       0.0       0.0   \n",
              "mean           NaN                                    NaN       NaN       NaN   \n",
              "std            NaN                                    NaN       NaN       NaN   \n",
              "min            NaN                                    NaN       NaN       NaN   \n",
              "25%            NaN                                    NaN       NaN       NaN   \n",
              "50%            NaN                                    NaN       NaN       NaN   \n",
              "75%            NaN                                    NaN       NaN       NaN   \n",
              "max            NaN                                    NaN       NaN       NaN   \n",
              "\n",
              "       Diferenciación  Diametro maximo   Espesor   Porcentaje circunferencia  \\\n",
              "count             0.0       105.000000  45.000000                 102.000000   \n",
              "mean              NaN        40.400000  11.422222                  64.656863   \n",
              "std               NaN        19.614849   5.626596                  31.103944   \n",
              "min               NaN         8.000000   4.000000                  10.000000   \n",
              "25%               NaN        30.000000   7.000000                  36.250000   \n",
              "50%               NaN        40.000000  10.000000                  70.000000   \n",
              "75%               NaN        50.000000  18.000000                 100.000000   \n",
              "max               NaN       105.000000  20.000000                 100.000000   \n",
              "\n",
              "       GG aislados        GG +  Inestabilida microsatelites  \\\n",
              "count    108.00000  108.000000                          0.0   \n",
              "mean      17.12037    0.925926                          NaN   \n",
              "std        7.33538    2.335039                          NaN   \n",
              "min        2.00000    0.000000                          NaN   \n",
              "25%       12.00000    0.000000                          NaN   \n",
              "50%       17.00000    0.000000                          NaN   \n",
              "75%       20.25000    1.000000                          NaN   \n",
              "max       40.00000   12.000000                          NaN   \n",
              "\n",
              "       QT adyuvante( como terapia adyuvante se ha utilizado la quimioterapia  \\\n",
              "count                                                0.0                       \n",
              "mean                                                 NaN                       \n",
              "std                                                  NaN                       \n",
              "min                                                  NaN                       \n",
              "25%                                                  NaN                       \n",
              "50%                                                  NaN                       \n",
              "75%                                                  NaN                       \n",
              "max                                                  NaN                       \n",
              "\n",
              "       Tipo QT (tipo de qiomioterapia)     Recaída  \\\n",
              "count                              0.0  110.000000   \n",
              "mean                               NaN    0.127273   \n",
              "std                                NaN    0.334804   \n",
              "min                                NaN    0.000000   \n",
              "25%                                NaN    0.000000   \n",
              "50%                                NaN    0.000000   \n",
              "75%                                NaN    0.000000   \n",
              "max                                NaN    1.000000   \n",
              "\n",
              "       Exitus( si han muerto o no, pregunatr porque hay casos en lsoq ue pone 2)  \n",
              "count                                         111.000000                          \n",
              "mean                                            0.171171                          \n",
              "std                                             0.444642                          \n",
              "min                                             0.000000                          \n",
              "25%                                             0.000000                          \n",
              "50%                                             0.000000                          \n",
              "75%                                             0.000000                          \n",
              "max                                             2.000000                          "
            ]
          },
          "metadata": {},
          "execution_count": 6
        }
      ]
    },
    {
      "cell_type": "code",
      "source": [
        "dataset.head(20)"
      ],
      "metadata": {
        "id": "PHR5NadjYppo"
      },
      "execution_count": null,
      "outputs": []
    },
    {
      "cell_type": "code",
      "source": [
        "dataset.isna()"
      ],
      "metadata": {
        "id": "cqm1cllKcqHp"
      },
      "execution_count": null,
      "outputs": []
    },
    {
      "cell_type": "code",
      "source": [
        "dataset.columns.values"
      ],
      "metadata": {
        "id": "sE1FFvBgugqI"
      },
      "execution_count": null,
      "outputs": []
    },
    {
      "cell_type": "code",
      "source": [
        "dataset.shape"
      ],
      "metadata": {
        "id": "OlUTXReE7ZJ-",
        "colab": {
          "base_uri": "https://localhost:8080/"
        },
        "outputId": "0a452348-6554-4fa2-a0b0-a75f0d0b1ebc"
      },
      "execution_count": null,
      "outputs": [
        {
          "output_type": "execute_result",
          "data": {
            "text/plain": [
              "(124, 81)"
            ]
          },
          "metadata": {},
          "execution_count": 10
        }
      ]
    },
    {
      "cell_type": "code",
      "source": [
        "dataset.info()"
      ],
      "metadata": {
        "id": "69UICVKB7c53"
      },
      "execution_count": null,
      "outputs": []
    },
    {
      "cell_type": "code",
      "source": [
        "dataset.isnull().values.any()\n"
      ],
      "metadata": {
        "id": "oA-p3NWuXBMd",
        "colab": {
          "base_uri": "https://localhost:8080/"
        },
        "outputId": "800622fc-5473-4089-e7b0-554091eed379"
      },
      "execution_count": null,
      "outputs": [
        {
          "output_type": "execute_result",
          "data": {
            "text/plain": [
              "True"
            ]
          },
          "metadata": {},
          "execution_count": 12
        }
      ]
    },
    {
      "cell_type": "code",
      "source": [
        "dataset.isnull()\n"
      ],
      "metadata": {
        "id": "ovNiwo3YXIpJ"
      },
      "execution_count": null,
      "outputs": []
    },
    {
      "cell_type": "code",
      "source": [
        "dataset.isnull().any()\n"
      ],
      "metadata": {
        "id": "phsoa5_2Ysfy"
      },
      "execution_count": null,
      "outputs": []
    },
    {
      "cell_type": "code",
      "source": [
        "nulls = dataset.isnull().sum()"
      ],
      "metadata": {
        "id": "iWrbthqcY2xe"
      },
      "execution_count": null,
      "outputs": []
    },
    {
      "cell_type": "code",
      "source": [
        "index = nulls.index"
      ],
      "metadata": {
        "id": "Zw7A--7kcYhq"
      },
      "execution_count": null,
      "outputs": []
    },
    {
      "cell_type": "code",
      "source": [
        "df_na = pd.DataFrame(nulls, columns= ['Nº_na_values'])\n",
        "df_na['index']=df_na.index"
      ],
      "metadata": {
        "id": "etVTkvIzboYA"
      },
      "execution_count": null,
      "outputs": []
    },
    {
      "cell_type": "code",
      "source": [
        "df_na.head()"
      ],
      "metadata": {
        "id": "PUJi4lQnc8bw"
      },
      "execution_count": null,
      "outputs": []
    },
    {
      "cell_type": "code",
      "source": [
        "nulls.dtype"
      ],
      "metadata": {
        "id": "IlKeoSNhbP96",
        "colab": {
          "base_uri": "https://localhost:8080/"
        },
        "outputId": "0dd19c79-cf65-4968-f724-80261806bb78"
      },
      "execution_count": null,
      "outputs": [
        {
          "output_type": "execute_result",
          "data": {
            "text/plain": [
              "dtype('int64')"
            ]
          },
          "metadata": {},
          "execution_count": 19
        }
      ]
    },
    {
      "cell_type": "code",
      "source": [
        "nulls.index"
      ],
      "metadata": {
        "id": "tcwwtjSKZGwv"
      },
      "execution_count": null,
      "outputs": []
    },
    {
      "cell_type": "code",
      "source": [
        "df_na.shape"
      ],
      "metadata": {
        "id": "cE0bOvf5eDCG",
        "colab": {
          "base_uri": "https://localhost:8080/"
        },
        "outputId": "176957c6-5846-4cf2-947b-e8a544b9521f"
      },
      "execution_count": null,
      "outputs": [
        {
          "output_type": "execute_result",
          "data": {
            "text/plain": [
              "(81, 2)"
            ]
          },
          "metadata": {},
          "execution_count": 21
        }
      ]
    },
    {
      "cell_type": "code",
      "source": [
        "df_na.head()"
      ],
      "metadata": {
        "id": "_eJ1p_a8j38h"
      },
      "execution_count": null,
      "outputs": []
    },
    {
      "cell_type": "code",
      "source": [
        "#df_na = df_na.drop(df_na.loc[df_na['Nº_na_values']==124].index)"
      ],
      "metadata": {
        "id": "Y1usw3TMhBVR"
      },
      "execution_count": null,
      "outputs": []
    },
    {
      "cell_type": "code",
      "source": [
        "# Get names of indexes for which column Stock has value No\n",
        "indexNames = df_na[ df_na['Nº_na_values'] == 124 ].index\n",
        "# Delete these row indexes from dataFrame\n",
        "df_na.drop(indexNames , inplace=True)\n",
        "print(df_na)\n",
        "#otra forma de realizar lo mismo"
      ],
      "metadata": {
        "id": "WDRbCo_phpw1"
      },
      "execution_count": null,
      "outputs": []
    },
    {
      "cell_type": "code",
      "source": [
        "#hemos eliminado 15 columnas ya que estaban en blanco completamente"
      ],
      "metadata": {
        "id": "KtxUf2S5zOXY"
      },
      "execution_count": null,
      "outputs": []
    },
    {
      "cell_type": "code",
      "source": [
        "df_na.shape"
      ],
      "metadata": {
        "id": "bGnHfZjWzE5V",
        "colab": {
          "base_uri": "https://localhost:8080/"
        },
        "outputId": "d57bdfe4-9286-48ee-b7b7-5623ef107f56"
      },
      "execution_count": null,
      "outputs": [
        {
          "output_type": "execute_result",
          "data": {
            "text/plain": [
              "(66, 2)"
            ]
          },
          "metadata": {},
          "execution_count": 26
        }
      ]
    },
    {
      "cell_type": "code",
      "source": [
        "df_na.head(66)"
      ],
      "metadata": {
        "id": "NmRaAAV1zXPL"
      },
      "execution_count": null,
      "outputs": []
    },
    {
      "cell_type": "code",
      "source": [
        "dataset_new = dataset.drop(indexNames, axis = 1)"
      ],
      "metadata": {
        "id": "aZedgO3_1ENA"
      },
      "execution_count": null,
      "outputs": []
    },
    {
      "cell_type": "code",
      "source": [
        "dataset_new.tail(30)"
      ],
      "metadata": {
        "id": "13s8vKXB1EwL"
      },
      "execution_count": null,
      "outputs": []
    },
    {
      "cell_type": "code",
      "source": [
        "dataset_new = dataset_new.dropna(axis = 0, subset=['Paciente'])"
      ],
      "metadata": {
        "id": "HgBtY6W66o4p"
      },
      "execution_count": null,
      "outputs": []
    },
    {
      "cell_type": "code",
      "source": [
        "dataset_new.shape"
      ],
      "metadata": {
        "colab": {
          "base_uri": "https://localhost:8080/"
        },
        "id": "1bhlwkUY7xZe",
        "outputId": "53acc034-51a7-446f-d0c3-e89ecac090c6"
      },
      "execution_count": null,
      "outputs": [
        {
          "output_type": "execute_result",
          "data": {
            "text/plain": [
              "(111, 66)"
            ]
          },
          "metadata": {},
          "execution_count": 31
        }
      ]
    },
    {
      "cell_type": "code",
      "source": [
        "dataset_new.set_index('Paciente',inplace = True)\n"
      ],
      "metadata": {
        "id": "f-OVq3j4-yaW"
      },
      "execution_count": null,
      "outputs": []
    },
    {
      "cell_type": "code",
      "source": [
        "dataset_new.head()"
      ],
      "metadata": {
        "id": "RDQlNCwQ-6mX"
      },
      "execution_count": null,
      "outputs": []
    },
    {
      "cell_type": "code",
      "source": [
        "lista = ['Telfono', 'Fecha cirugia', 'Fecha nacimiento', 'Fecha Recaída', 'Fecha ultimo seg']"
      ],
      "metadata": {
        "id": "hdDtGewDCuZj"
      },
      "execution_count": null,
      "outputs": []
    },
    {
      "cell_type": "code",
      "source": [
        "dataset_new = dataset_new.drop(lista, axis = 1)"
      ],
      "metadata": {
        "id": "hsBZvyfPCr8V"
      },
      "execution_count": null,
      "outputs": []
    },
    {
      "cell_type": "code",
      "source": [
        "dataset_new.shape"
      ],
      "metadata": {
        "id": "v6WdAKqADbOC",
        "colab": {
          "base_uri": "https://localhost:8080/"
        },
        "outputId": "e4e00290-b880-43d8-d350-1a64d13b3de8"
      },
      "execution_count": null,
      "outputs": [
        {
          "output_type": "execute_result",
          "data": {
            "text/plain": [
              "(111, 60)"
            ]
          },
          "metadata": {},
          "execution_count": 36
        }
      ]
    },
    {
      "cell_type": "code",
      "source": [
        "df = dataset_new"
      ],
      "metadata": {
        "id": "2L-uOygDEDd-"
      },
      "execution_count": null,
      "outputs": []
    },
    {
      "cell_type": "code",
      "source": [
        "df.head(111)"
      ],
      "metadata": {
        "id": "xX8cIefEEOOx"
      },
      "execution_count": null,
      "outputs": []
    },
    {
      "cell_type": "code",
      "source": [
        "df = df.drop(['fistula'],axis = 1)"
      ],
      "metadata": {
        "id": "c1Si2dCmIyde"
      },
      "execution_count": null,
      "outputs": []
    },
    {
      "cell_type": "code",
      "source": [
        "from pyspark.ml.feature import (VectorAssembler,StringIndexer,OneHotEncoder)\n"
      ],
      "metadata": {
        "id": "Ur7miITBJvYt"
      },
      "execution_count": null,
      "outputs": []
    },
    {
      "cell_type": "code",
      "source": [
        "nan = df.isnull().sum()\n",
        "\n",
        "nan.head(111)"
      ],
      "metadata": {
        "id": "RwXiUXgFcFvW"
      },
      "execution_count": null,
      "outputs": []
    },
    {
      "cell_type": "code",
      "source": [
        "nan = pd.DataFrame(nan)"
      ],
      "metadata": {
        "id": "iDsbksYSc8HI"
      },
      "execution_count": null,
      "outputs": []
    },
    {
      "cell_type": "code",
      "source": [
        "nan.to_excel('NaN_values_cancer.xlsx')"
      ],
      "metadata": {
        "id": "KzxEPxf_dHTj"
      },
      "execution_count": null,
      "outputs": []
    },
    {
      "cell_type": "code",
      "source": [
        "index = StringIndexer(inputCol=column, outputCol =column+'index' ) for column in list()\n",
        "model = index.fit(df)\n",
        "df = model.transfrom(df)"
      ],
      "metadata": {
        "colab": {
          "base_uri": "https://localhost:8080/",
          "height": 149
        },
        "id": "771KCKCVMVWI",
        "outputId": "0227b39b-3f23-4e9d-c02a-9678cb91bfa2"
      },
      "execution_count": null,
      "outputs": [
        {
          "output_type": "error",
          "ename": "SyntaxError",
          "evalue": "ignored",
          "traceback": [
            "\u001b[0;36m  File \u001b[0;32m\"<ipython-input-44-1203a831d737>\"\u001b[0;36m, line \u001b[0;32m1\u001b[0m\n\u001b[0;31m    index = StringIndexer(inputCol=column, outputCol =column+'index' ) for column in list()\u001b[0m\n\u001b[0m                                                                         ^\u001b[0m\n\u001b[0;31mSyntaxError\u001b[0m\u001b[0;31m:\u001b[0m invalid syntax\n"
          ]
        }
      ]
    }
  ]
}